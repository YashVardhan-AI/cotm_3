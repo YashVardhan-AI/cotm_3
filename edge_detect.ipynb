{
 "cells": [
  {
   "cell_type": "code",
   "execution_count": null,
   "source": [
    "import cv2 as cv\n",
    "from matplotlib import pyplot as plt\n",
    "import os\n",
    "def plot_images(image_processed):\n",
    "    plt.imshow(image_processed)\n",
    "    plt.show()\n",
    "    \n",
    "    \n",
    "for i in (os.listdir('edge_detection_images/monuments/')):\n",
    "    img = cv.imread( f'edge_detection_images/monuments/{i}' , 0)\n",
    "    img = cv.Canny(img, 100, 200)\n",
    "    cv.imwrite(f\"edge_detection_images/edged/edged_{i}.png\", img)\n",
    "    plot_images(img)"
   ],
   "outputs": [],
   "metadata": {}
  }
 ],
 "metadata": {
  "orig_nbformat": 4,
  "language_info": {
   "name": "python",
   "version": "3.8.8",
   "mimetype": "text/x-python",
   "codemirror_mode": {
    "name": "ipython",
    "version": 3
   },
   "pygments_lexer": "ipython3",
   "nbconvert_exporter": "python",
   "file_extension": ".py"
  },
  "kernelspec": {
   "name": "python3",
   "display_name": "Python 3.8.8 64-bit ('opencv': conda)"
  },
  "interpreter": {
   "hash": "6a7dc05ce4d97ed8120c7e21a929644bc76b6ceaf17c0fec10e45afb27d8d5ea"
  }
 },
 "nbformat": 4,
 "nbformat_minor": 2
}